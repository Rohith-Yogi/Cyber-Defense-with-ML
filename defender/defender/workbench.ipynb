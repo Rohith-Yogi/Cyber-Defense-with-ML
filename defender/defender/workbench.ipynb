{
 "cells": [
  {
   "cell_type": "code",
   "execution_count": null,
   "id": "initial_id",
   "metadata": {
    "collapsed": true,
    "is_executing": true
   },
   "outputs": [],
   "source": [
    "import pathlib\n",
    "import zipline\n",
    "import tarfile"
   ]
  },
  {
   "cell_type": "code",
   "outputs": [],
   "source": [
    "def file_bytes_generator(location, maxsize, return_filename=True):\n",
    "    # yields (name,bytes) for files smaller than `maxsize` and that begin with b'MZ'\n",
    "    # works for tar (including bz2, gz), zip, and directories\n",
    "    path = pathlib.Path(location)\n",
    "    if path.is_file():\n",
    "        if location.lower().endswith('.zip'):\n",
    "            pwd_ix = 0\n",
    "            with zipfile.ZipFile(location, 'r') as f:\n",
    "                for info in f.infolist():\n",
    "                    if info.file_size <= maxsize:\n",
    "                        while True:\n",
    "                            try:\n",
    "                                content = f.read(\n",
    "                                    info.filename, pwd=ZIP_PASSWORDS[pwd_ix])\n",
    "                            except RuntimeError:\n",
    "                                pwd_ix += 1\n",
    "                                if pwd_ix >= len(ZIP_PASSWORDS):\n",
    "                                    raise Exception(\n",
    "                                        f\"Unable to guess ZIP encryption passwords for {location}\")\n",
    "                            else:\n",
    "                                break\n",
    "\n",
    "                        if content.startswith(b'MZ'):\n",
    "                            yield (os.path.join(location, info.filename), content) if return_filename else content\n",
    "\n",
    "        elif location.lower().endswith('.tar') or location.lower().endswith('.tar.bz2') or location.lower().endswith('.tar.gz') or location.lower().endswith('.tgz'):\n",
    "            with tarfile.open(location, mode='r') as tar:\n",
    "                for member in tar:\n",
    "                    if member.size <= maxsize:\n",
    "                        f = tar.extractfile(member)\n",
    "                        if f:\n",
    "                            content = f.read()\n",
    "                            if content.startswith(b'MZ'):\n",
    "                                yield (os.path.join(location, member.name), content) if return_filename else content\n",
    "\n",
    "    elif path.is_dir():\n",
    "        for filepath in path.glob('*'):\n",
    "            fileobj = pathlib.Path(filepath)\n",
    "            if fileobj.is_file() and fileobj.stat().st_size <= maxsize:\n",
    "                try:\n",
    "                    with open(filepath, 'rb') as infile:\n",
    "                        content = infile.read()\n",
    "                        if content.startswith(b'MZ'):\n",
    "                            yield (fileobj.absolute().name, content) if return_filename else content\n",
    "                except PermissionError:\n",
    "                    continue"
   ],
   "metadata": {
    "collapsed": false,
    "is_executing": true
   },
   "id": "1a7d254e32412619"
  },
  {
   "cell_type": "code",
   "outputs": [],
   "source": [],
   "metadata": {
    "collapsed": false
   },
   "id": "c3a2086f36b68afb"
  }
 ],
 "metadata": {
  "kernelspec": {
   "display_name": "Python 3",
   "language": "python",
   "name": "python3"
  },
  "language_info": {
   "codemirror_mode": {
    "name": "ipython",
    "version": 2
   },
   "file_extension": ".py",
   "mimetype": "text/x-python",
   "name": "python",
   "nbconvert_exporter": "python",
   "pygments_lexer": "ipython2",
   "version": "2.7.6"
  }
 },
 "nbformat": 4,
 "nbformat_minor": 5
}
